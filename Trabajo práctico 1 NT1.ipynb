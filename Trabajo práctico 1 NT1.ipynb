{
 "cells": [
  {
   "cell_type": "markdown",
   "metadata": {},
   "source": [
    "<b>Consideremos el problema siguiente</b>: \n",
    "    \n",
    "<i>Tenemos a disposición un dataset con 1338 observaciones (filas) y 7 características (columnas): edad, genero, bmi (body mass index), número de niños, si es fumadora o no, su región y sus gastos en salud.</i>\n",
    "\n",
    "<br/>\n",
    "<div style=\"background-color: #c47968\">\n",
    "\n",
    "<b>Preguntas:</b>\n",
    "\n",
    "<p>- Entrenar un modelo predictivo que estima los gastos de salud de un hombre de 55 años, sin niño, teniendo un bmi de 42.6, fumador.</p>\n",
    "\n",
    "<p>- Desde un punto de vista del emprendimiento, ¿qué podría ser el valor añadido de este tipo de modelo predictivo? a quién podría servir?, Desde un punto de vista científico y ético, ¿qué críticas podría emitir?</p>\n",
    "\n",
    "</div>"
   ]
  },
  {
   "cell_type": "code",
   "execution_count": 10,
   "metadata": {},
   "outputs": [],
   "source": [
    "import pandas as pd\n",
    "import matplotlib.pyplot as plt\n",
    "from sklearn.preprocessing import StandardScaler\n",
    "import statsmodels.api as sm\n",
    "datos = pd.read_csv(\"datos/nb1-insurance.csv\")\n",
    "\n",
    "# Variable objetivo\n",
    "Y2 = datos[['expenses']]\n",
    "Y_t= pd.get_dummies(datos)\n",
    "X2 = Y_t[['age','bmi','children','sex_female','sex_male','smoker_no','smoker_yes','region_northeast','region_northwest','region_southeast','region_southwest']]"
   ]
  },
  {
   "cell_type": "code",
   "execution_count": 11,
   "metadata": {},
   "outputs": [
    {
     "name": "stderr",
     "output_type": "stream",
     "text": [
      "<ipython-input-11-f7e383226dcc>:3: FutureWarning: Method .as_matrix will be removed in a future version. Use .values instead.\n",
      "  X_s = scale.fit_transform(X2[['age','bmi','children','sex_female','sex_male','smoker_no','smoker_yes','region_northeast','region_northwest','region_southeast','region_southwest']].as_matrix())\n"
     ]
    },
    {
     "data": {
      "text/html": [
       "<table class=\"simpletable\">\n",
       "<caption>OLS Regression Results</caption>\n",
       "<tr>\n",
       "  <th>Dep. Variable:</th>        <td>expenses</td>     <th>  R-squared:         </th> <td>   0.751</td> \n",
       "</tr>\n",
       "<tr>\n",
       "  <th>Model:</th>                   <td>OLS</td>       <th>  Adj. R-squared:    </th> <td>   0.749</td> \n",
       "</tr>\n",
       "<tr>\n",
       "  <th>Method:</th>             <td>Least Squares</td>  <th>  F-statistic:       </th> <td>   500.9</td> \n",
       "</tr>\n",
       "<tr>\n",
       "  <th>Date:</th>             <td>Fri, 08 May 2020</td> <th>  Prob (F-statistic):</th>  <td>  0.00</td>  \n",
       "</tr>\n",
       "<tr>\n",
       "  <th>Time:</th>                 <td>20:04:11</td>     <th>  Log-Likelihood:    </th> <td> -13548.</td> \n",
       "</tr>\n",
       "<tr>\n",
       "  <th>No. Observations:</th>      <td>  1338</td>      <th>  AIC:               </th> <td>2.711e+04</td>\n",
       "</tr>\n",
       "<tr>\n",
       "  <th>Df Residuals:</th>          <td>  1329</td>      <th>  BIC:               </th> <td>2.716e+04</td>\n",
       "</tr>\n",
       "<tr>\n",
       "  <th>Df Model:</th>              <td>     8</td>      <th>                     </th>     <td> </td>    \n",
       "</tr>\n",
       "<tr>\n",
       "  <th>Covariance Type:</th>      <td>nonrobust</td>    <th>                     </th>     <td> </td>    \n",
       "</tr>\n",
       "</table>\n",
       "<table class=\"simpletable\">\n",
       "<tr>\n",
       "          <td></td>            <th>coef</th>     <th>std err</th>      <th>t</th>      <th>P>|t|</th>  <th>[0.025</th>    <th>0.975]</th>  \n",
       "</tr>\n",
       "<tr>\n",
       "  <th>age</th>              <td>  256.8392</td> <td>   11.899</td> <td>   21.586</td> <td> 0.000</td> <td>  233.497</td> <td>  280.181</td>\n",
       "</tr>\n",
       "<tr>\n",
       "  <th>bmi</th>              <td>  339.2899</td> <td>   28.598</td> <td>   11.864</td> <td> 0.000</td> <td>  283.187</td> <td>  395.393</td>\n",
       "</tr>\n",
       "<tr>\n",
       "  <th>children</th>         <td>  475.6889</td> <td>  137.800</td> <td>    3.452</td> <td> 0.001</td> <td>  205.360</td> <td>  746.017</td>\n",
       "</tr>\n",
       "<tr>\n",
       "  <th>sex_female</th>       <td> -202.4932</td> <td>  418.358</td> <td>   -0.484</td> <td> 0.628</td> <td>-1023.207</td> <td>  618.220</td>\n",
       "</tr>\n",
       "<tr>\n",
       "  <th>sex_male</th>         <td> -333.8452</td> <td>  425.034</td> <td>   -0.785</td> <td> 0.432</td> <td>-1167.657</td> <td>  499.966</td>\n",
       "</tr>\n",
       "<tr>\n",
       "  <th>smoker_no</th>        <td>-1.219e+04</td> <td>  419.573</td> <td>  -29.058</td> <td> 0.000</td> <td> -1.3e+04</td> <td>-1.14e+04</td>\n",
       "</tr>\n",
       "<tr>\n",
       "  <th>smoker_yes</th>       <td> 1.166e+04</td> <td>  457.772</td> <td>   25.462</td> <td> 0.000</td> <td> 1.08e+04</td> <td> 1.26e+04</td>\n",
       "</tr>\n",
       "<tr>\n",
       "  <th>region_northeast</th> <td>  452.8383</td> <td>  332.156</td> <td>    1.363</td> <td> 0.173</td> <td> -198.768</td> <td> 1104.445</td>\n",
       "</tr>\n",
       "<tr>\n",
       "  <th>region_northwest</th> <td>  100.0482</td> <td>  333.886</td> <td>    0.300</td> <td> 0.764</td> <td> -554.952</td> <td>  755.049</td>\n",
       "</tr>\n",
       "<tr>\n",
       "  <th>region_southeast</th> <td> -582.7574</td> <td>  381.781</td> <td>   -1.526</td> <td> 0.127</td> <td>-1331.716</td> <td>  166.201</td>\n",
       "</tr>\n",
       "<tr>\n",
       "  <th>region_southwest</th> <td> -506.4675</td> <td>  351.146</td> <td>   -1.442</td> <td> 0.149</td> <td>-1195.329</td> <td>  182.394</td>\n",
       "</tr>\n",
       "</table>\n",
       "<table class=\"simpletable\">\n",
       "<tr>\n",
       "  <th>Omnibus:</th>       <td>300.499</td> <th>  Durbin-Watson:     </th> <td>   2.088</td> \n",
       "</tr>\n",
       "<tr>\n",
       "  <th>Prob(Omnibus):</th> <td> 0.000</td>  <th>  Jarque-Bera (JB):  </th> <td> 719.382</td> \n",
       "</tr>\n",
       "<tr>\n",
       "  <th>Skew:</th>          <td> 1.212</td>  <th>  Prob(JB):          </th> <td>6.14e-157</td>\n",
       "</tr>\n",
       "<tr>\n",
       "  <th>Kurtosis:</th>      <td> 5.652</td>  <th>  Cond. No.          </th> <td>4.17e+17</td> \n",
       "</tr>\n",
       "</table><br/><br/>Warnings:<br/>[1] Standard Errors assume that the covariance matrix of the errors is correctly specified.<br/>[2] The smallest eigenvalue is 2.03e-29. This might indicate that there are<br/>strong multicollinearity problems or that the design matrix is singular."
      ],
      "text/plain": [
       "<class 'statsmodels.iolib.summary.Summary'>\n",
       "\"\"\"\n",
       "                            OLS Regression Results                            \n",
       "==============================================================================\n",
       "Dep. Variable:               expenses   R-squared:                       0.751\n",
       "Model:                            OLS   Adj. R-squared:                  0.749\n",
       "Method:                 Least Squares   F-statistic:                     500.9\n",
       "Date:                Fri, 08 May 2020   Prob (F-statistic):               0.00\n",
       "Time:                        20:04:11   Log-Likelihood:                -13548.\n",
       "No. Observations:                1338   AIC:                         2.711e+04\n",
       "Df Residuals:                    1329   BIC:                         2.716e+04\n",
       "Df Model:                           8                                         \n",
       "Covariance Type:            nonrobust                                         \n",
       "====================================================================================\n",
       "                       coef    std err          t      P>|t|      [0.025      0.975]\n",
       "------------------------------------------------------------------------------------\n",
       "age                256.8392     11.899     21.586      0.000     233.497     280.181\n",
       "bmi                339.2899     28.598     11.864      0.000     283.187     395.393\n",
       "children           475.6889    137.800      3.452      0.001     205.360     746.017\n",
       "sex_female        -202.4932    418.358     -0.484      0.628   -1023.207     618.220\n",
       "sex_male          -333.8452    425.034     -0.785      0.432   -1167.657     499.966\n",
       "smoker_no        -1.219e+04    419.573    -29.058      0.000    -1.3e+04   -1.14e+04\n",
       "smoker_yes        1.166e+04    457.772     25.462      0.000    1.08e+04    1.26e+04\n",
       "region_northeast   452.8383    332.156      1.363      0.173    -198.768    1104.445\n",
       "region_northwest   100.0482    333.886      0.300      0.764    -554.952     755.049\n",
       "region_southeast  -582.7574    381.781     -1.526      0.127   -1331.716     166.201\n",
       "region_southwest  -506.4675    351.146     -1.442      0.149   -1195.329     182.394\n",
       "==============================================================================\n",
       "Omnibus:                      300.499   Durbin-Watson:                   2.088\n",
       "Prob(Omnibus):                  0.000   Jarque-Bera (JB):              719.382\n",
       "Skew:                           1.212   Prob(JB):                    6.14e-157\n",
       "Kurtosis:                       5.652   Cond. No.                     4.17e+17\n",
       "==============================================================================\n",
       "\n",
       "Warnings:\n",
       "[1] Standard Errors assume that the covariance matrix of the errors is correctly specified.\n",
       "[2] The smallest eigenvalue is 2.03e-29. This might indicate that there are\n",
       "strong multicollinearity problems or that the design matrix is singular.\n",
       "\"\"\""
      ]
     },
     "execution_count": 11,
     "metadata": {},
     "output_type": "execute_result"
    }
   ],
   "source": [
    "#Traslada valores de Y_t a matriz numpy X\n",
    "scale = StandardScaler()\n",
    "X_s = scale.fit_transform(X2[['age','bmi','children','sex_female','sex_male','smoker_no','smoker_yes','region_northeast','region_northwest','region_southeast','region_southwest']].as_matrix())\n",
    "est = sm.OLS(Y2, X2).fit()\n",
    "est.summary()  "
   ]
  },
  {
   "cell_type": "code",
   "execution_count": 12,
   "metadata": {},
   "outputs": [],
   "source": [
    "#Determina la función de aproximación lineal multivariable\n",
    "def predict_expensive(age, bmi, chil, sx_f, sx_m, smk_n, smk_s, rnw, rne, rse, rsw):\n",
    "    resultado = 256.8392*age + 339.2899*bmi + 475.6889*chil - 202.4932*sx_f - 333.8452*sx_m -1.219e+04*smk_n + 1.166e+04*smk_s + 452.8383*rne + 100.0482*rnw - 582.7574*rse - 506.4675*rsw\n",
    "    return resultado"
   ]
  },
  {
   "cell_type": "code",
   "execution_count": 13,
   "metadata": {},
   "outputs": [],
   "source": [
    "#Itera para cada elemento \n",
    "def predict_all(l_age, l_bmi,l_chil, l_sx_f, l_sx_m, l_smk_n, l_smk_s, l_rnw, l_rne, l_rse, l_rsw):\n",
    "    predicted_prices = []\n",
    "    for n in range(0, len(Y2)):\n",
    "        predicted_prices.append(predict_expensive(l_age[n], l_bmi[n],l_chil[n], l_sx_f[n], l_sx_m[n], l_smk_n[n], l_smk_s[n], l_rnw[n], l_rne[n], l_rse[n], l_rsw[n]))\n",
    "    return predicted_prices"
   ]
  },
  {
   "cell_type": "code",
   "execution_count": 14,
   "metadata": {},
   "outputs": [
    {
     "name": "stdout",
     "output_type": "stream",
     "text": [
      "41263.220140000005\n"
     ]
    }
   ],
   "source": [
    "#resultado final de la predicción sobre de un hombre de 55 años, sin niño, teniendo un bmi de 42.6, fumador.\n",
    "print(predict_expensive(55,46.6,0,0,1,0,1,0,0,0,0))"
   ]
  }
 ],
 "metadata": {
  "kernelspec": {
   "display_name": "Python 3",
   "language": "python",
   "name": "python3"
  },
  "language_info": {
   "codemirror_mode": {
    "name": "ipython",
    "version": 3
   },
   "file_extension": ".py",
   "mimetype": "text/x-python",
   "name": "python",
   "nbconvert_exporter": "python",
   "pygments_lexer": "ipython3",
   "version": "3.8.2"
  }
 },
 "nbformat": 4,
 "nbformat_minor": 4
}
